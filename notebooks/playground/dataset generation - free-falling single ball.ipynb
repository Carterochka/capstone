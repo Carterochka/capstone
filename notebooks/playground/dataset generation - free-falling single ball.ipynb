{
 "cells": [
  {
   "cell_type": "code",
   "execution_count": 1,
   "id": "533f8c47",
   "metadata": {},
   "outputs": [],
   "source": [
    "# Requirements - uncomment as needed\n",
    "#!pip install matplotlib numpy scipy phyre"
   ]
  },
  {
   "cell_type": "markdown",
   "id": "30fc8605",
   "metadata": {},
   "source": [
    "# Generating the dataset\n",
    "\n",
    "The requirement for the dataset here: \n",
    "\n",
    "- only using the template that contains only two balls on the scene;\n",
    "\n",
    "- red ball must be in the free-fall without any collisions other than with the floor;\n",
    "\n",
    "- only coordinates of the red ball are recorded."
   ]
  },
  {
   "cell_type": "markdown",
   "id": "fd352ea9",
   "metadata": {},
   "source": [
    "## Playground 2 + Generation"
   ]
  },
  {
   "cell_type": "code",
   "execution_count": 1,
   "id": "ef0050ca",
   "metadata": {},
   "outputs": [],
   "source": [
    "import matplotlib.pyplot as plt\n",
    "import numpy as np\n",
    "import math\n",
    "import re\n",
    "import itertools\n",
    "\n",
    "import phyre"
   ]
  },
  {
   "cell_type": "code",
   "execution_count": 2,
   "id": "ae33bd35",
   "metadata": {},
   "outputs": [
    {
     "name": "stdout",
     "output_type": "stream",
     "text": [
      "Total tasks:  2500\n"
     ]
    }
   ],
   "source": [
    "# Choosing a setup where only one ball is needed\n",
    "eval_setup = 'ball_cross_template'\n",
    "\n",
    "\n",
    "# We only need one fold as we mix all the data together anyway\n",
    "fold_id = 0\n",
    "\n",
    "train_tasks, dev_tasks, test_tasks = phyre.get_fold(eval_setup, fold_id)\n",
    "tasks = list(train_tasks + dev_tasks + test_tasks)\n",
    "\n",
    "print('Total tasks: ', len(tasks))"
   ]
  },
  {
   "cell_type": "code",
   "execution_count": 9,
   "id": "2911bd14",
   "metadata": {},
   "outputs": [
    {
     "name": "stdout",
     "output_type": "stream",
     "text": [
      "Tasks after filtering:  100\n"
     ]
    }
   ],
   "source": [
    "# Filtering tasks to only include a simple two-ball template. The template key: '00000:xxx'\n",
    "\n",
    "task_filter = re.compile(\"00000:*\")\n",
    "tasks = list(filter(task_filter.match, tasks))\n",
    "\n",
    "print('Tasks after filtering: ', len(tasks))\n",
    "\n",
    "# Choosing a single scenario in which we will generate our free-falls\n",
    "tasks = [tasks[0]]"
   ]
  },
  {
   "cell_type": "code",
   "execution_count": 10,
   "id": "040b679c",
   "metadata": {},
   "outputs": [
    {
     "name": "stdout",
     "output_type": "stream",
     "text": [
      "Action tier for ball_cross_template is ball\n"
     ]
    }
   ],
   "source": [
    "# Getting action tier for our tasks - a single ball\n",
    "action_tier = phyre.eval_setup_to_action_tier(eval_setup)\n",
    "print('Action tier for', eval_setup, 'is', action_tier)"
   ]
  },
  {
   "cell_type": "code",
   "execution_count": 11,
   "id": "0135a5c2",
   "metadata": {},
   "outputs": [],
   "source": [
    "# Create the simulator from the tasks and tier.\n",
    "simulator = phyre.initialize_simulator(tasks, action_tier)"
   ]
  },
  {
   "cell_type": "code",
   "execution_count": 6,
   "id": "d0be3f59",
   "metadata": {},
   "outputs": [],
   "source": [
    "# getting a 10000 actions from a simulator\n",
    "# it uniformly samples actions skipping invalid ones\n",
    "# Action dimensions: 3 (x, y, radius) - represent coordinates and size of the red ball\n",
    "\n",
    "actions = simulator.build_discrete_action_space(max_actions=10000)"
   ]
  },
  {
   "cell_type": "code",
   "execution_count": 7,
   "id": "f32feb09",
   "metadata": {},
   "outputs": [],
   "source": [
    "# Defining a function to check if the red ball is in the free fall throughout the simulation\n",
    "def is_red_ball_in_free_fall(simulation):\n",
    "    features = simulation.featurized_objects.features\n",
    "    return False not in [features[0][-1][0] == features[frame_id][-1][0] for frame_id in range(len(features))]"
   ]
  },
  {
   "cell_type": "code",
   "execution_count": 8,
   "id": "031090c6",
   "metadata": {},
   "outputs": [],
   "source": [
    "# Getting only the coordinates of the red ball\n",
    "def get_red_ball_data(simulation):\n",
    "    features = simulation.featurized_objects.features\n",
    "    data = []\n",
    "    for frame_id in range(len(features)):\n",
    "        data.append([features[frame_id][-1][0], features[frame_id][-1][1]])\n",
    "    return data"
   ]
  },
  {
   "cell_type": "code",
   "execution_count": 18,
   "id": "4b06ff6b",
   "metadata": {},
   "outputs": [],
   "source": [
    "# we are using a single task\n",
    "task_index = 0\n",
    "\n",
    "for action_index in range(len(actions)):\n",
    "    simulation = simulator.simulate_action(task_index, actions[action_index], need_images=True, need_featurized_objects=True, stride=15)\n",
    "    if simulation.status.is_invalid(): continue\n",
    "    if is_red_ball_in_free_fall(simulation):\n",
    "        np.save(f'data-free-fall/task-{task_index}-action-{action_index}', get_red_ball_data(simulation))"
   ]
  },
  {
   "cell_type": "code",
   "execution_count": 19,
   "id": "ce703d36",
   "metadata": {},
   "outputs": [
    {
     "data": {
      "text/plain": [
       "array([[0.30078125, 0.14446744],\n",
       "       [0.30078125, 0.13585415],\n",
       "       [0.30078125, 0.1128854 ],\n",
       "       [0.30078125, 0.07556117],\n",
       "       [0.30078125, 0.02388148],\n",
       "       [0.30078125, 0.02498015],\n",
       "       [0.30078125, 0.0200189 ],\n",
       "       [0.30078125, 0.01964036],\n",
       "       [0.30078125, 0.01964815],\n",
       "       [0.30078125, 0.01964832],\n",
       "       [0.30078125, 0.01964832],\n",
       "       [0.30078125, 0.01964832],\n",
       "       [0.30078125, 0.01964832],\n",
       "       [0.30078125, 0.01964832],\n",
       "       [0.30078125, 0.01964832],\n",
       "       [0.30078125, 0.01964832],\n",
       "       [0.30078125, 0.01964832],\n",
       "       [0.30078125, 0.01964832],\n",
       "       [0.30078125, 0.01964832],\n",
       "       [0.30078125, 0.01964832],\n",
       "       [0.30078125, 0.01964832],\n",
       "       [0.30078125, 0.01964832],\n",
       "       [0.30078125, 0.01964832],\n",
       "       [0.30078125, 0.01964832],\n",
       "       [0.30078125, 0.01964832],\n",
       "       [0.30078125, 0.01964832],\n",
       "       [0.30078125, 0.01964832],\n",
       "       [0.30078125, 0.01964832],\n",
       "       [0.30078125, 0.01964832],\n",
       "       [0.30078125, 0.01964832],\n",
       "       [0.30078125, 0.01964832],\n",
       "       [0.30078125, 0.01964832],\n",
       "       [0.30078125, 0.01964832],\n",
       "       [0.30078125, 0.01964832],\n",
       "       [0.30078125, 0.01964832],\n",
       "       [0.30078125, 0.01964832],\n",
       "       [0.30078125, 0.01964832],\n",
       "       [0.30078125, 0.01964832],\n",
       "       [0.30078125, 0.01964832],\n",
       "       [0.30078125, 0.01964832],\n",
       "       [0.30078125, 0.01964832],\n",
       "       [0.30078125, 0.01964832],\n",
       "       [0.30078125, 0.01964832],\n",
       "       [0.30078125, 0.01964832],\n",
       "       [0.30078125, 0.01964832],\n",
       "       [0.30078125, 0.01964832],\n",
       "       [0.30078125, 0.01964832],\n",
       "       [0.30078125, 0.01964832],\n",
       "       [0.30078125, 0.01964832],\n",
       "       [0.30078125, 0.01964832],\n",
       "       [0.30078125, 0.01964832],\n",
       "       [0.30078125, 0.01964832],\n",
       "       [0.30078125, 0.01964832],\n",
       "       [0.30078125, 0.01964832],\n",
       "       [0.30078125, 0.01964832],\n",
       "       [0.30078125, 0.01964832],\n",
       "       [0.30078125, 0.01964832],\n",
       "       [0.30078125, 0.01964832],\n",
       "       [0.30078125, 0.01964832],\n",
       "       [0.30078125, 0.01964832],\n",
       "       [0.30078125, 0.01964832],\n",
       "       [0.30078125, 0.01964832],\n",
       "       [0.30078125, 0.01964832],\n",
       "       [0.30078125, 0.01964832],\n",
       "       [0.30078125, 0.01964832],\n",
       "       [0.30078125, 0.01964832],\n",
       "       [0.30078125, 0.01964832]], dtype=float32)"
      ]
     },
     "execution_count": 19,
     "metadata": {},
     "output_type": "execute_result"
    }
   ],
   "source": [
    "# DO NOT INCLUDE IT IN THE SCRIPT\n",
    "# Checking what is in one of the files that I saved\n",
    "np.load('data-free-fall/task-0-action-1.npy')"
   ]
  },
  {
   "cell_type": "code",
   "execution_count": 21,
   "id": "fba9b8bd",
   "metadata": {},
   "outputs": [
    {
     "data": {
      "text/plain": [
       "0.045414679999999985"
      ]
     },
     "execution_count": 21,
     "metadata": {},
     "output_type": "execute_result"
    }
   ],
   "source": [
    "3/2*0.07556117 - 1/2*0.13585415"
   ]
  },
  {
   "cell_type": "code",
   "execution_count": null,
   "id": "49ac0807",
   "metadata": {},
   "outputs": [],
   "source": []
  }
 ],
 "metadata": {
  "kernelspec": {
   "display_name": "Python 3",
   "language": "python",
   "name": "python3"
  },
  "language_info": {
   "codemirror_mode": {
    "name": "ipython",
    "version": 3
   },
   "file_extension": ".py",
   "mimetype": "text/x-python",
   "name": "python",
   "nbconvert_exporter": "python",
   "pygments_lexer": "ipython3",
   "version": "3.6.13"
  }
 },
 "nbformat": 4,
 "nbformat_minor": 5
}
