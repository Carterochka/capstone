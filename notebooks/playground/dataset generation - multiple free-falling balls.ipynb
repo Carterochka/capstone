{
 "cells": [
  {
   "cell_type": "code",
   "execution_count": null,
   "id": "b8de1862",
   "metadata": {},
   "outputs": [],
   "source": [
    "# Requirements - uncomment as needed\n",
    "#!pip install matplotlib numpy scipy phyre"
   ]
  },
  {
   "cell_type": "markdown",
   "id": "810a643d",
   "metadata": {},
   "source": [
    "# Generating the dataset\n",
    "\n",
    "The requirement for the dataset here: \n",
    "\n",
    "- only using the template that contains only two balls on the scene;\n",
    "\n",
    "- red ball must be in the free-fall without any collisions other than with the floor;\n",
    "\n",
    "- All balls are recorded."
   ]
  },
  {
   "cell_type": "markdown",
   "id": "b0c79ab4",
   "metadata": {},
   "source": [
    "## Playground 1\n",
    "\n",
    "For now these playgrounds are just moved from another notebook. NEEDS CHANGES!"
   ]
  },
  {
   "cell_type": "code",
   "execution_count": 1,
   "id": "5cb98d85",
   "metadata": {},
   "outputs": [],
   "source": [
    "import matplotlib.pyplot as plt\n",
    "import numpy as np\n",
    "import math\n",
    "import re\n",
    "\n",
    "import phyre"
   ]
  },
  {
   "cell_type": "code",
   "execution_count": null,
   "id": "34087e3f",
   "metadata": {},
   "outputs": [],
   "source": [
    "# Choosing a setup where only one ball is needed\n",
    "eval_setup = 'ball_cross_template'\n",
    "\n",
    "# Getting 10 folds of data from the simulator\n",
    "fold_ids = range(1,11)\n",
    "\n",
    "# Let's only check the first fold for now\n",
    "fold_id = 0\n",
    "train_tasks, dev_tasks, test_tasks = phyre.get_fold(eval_setup, fold_id)\n",
    "print(f'Size of resulting splits for fold {fold_id}:\\n train:', len(train_tasks), '\\n dev:',\n",
    "      len(dev_tasks), '\\n test:', len(test_tasks))"
   ]
  },
  {
   "cell_type": "code",
   "execution_count": null,
   "id": "70eea2e8",
   "metadata": {},
   "outputs": [],
   "source": [
    "# combining all tasks in one list\n",
    "tasks = list(train_tasks + dev_tasks + test_tasks)\n",
    "task_filter = re.compile(\"00000:*\")\n",
    "tasks = list(filter(task_filter.match, tasks))\n",
    "tasks"
   ]
  },
  {
   "cell_type": "code",
   "execution_count": null,
   "id": "e5a7c94c",
   "metadata": {},
   "outputs": [],
   "source": [
    "# Getting action tier for our tasks - a single ball\n",
    "action_tier = phyre.eval_setup_to_action_tier(eval_setup)\n",
    "print('Action tier for', eval_setup, 'is', action_tier)"
   ]
  },
  {
   "cell_type": "code",
   "execution_count": null,
   "id": "0dc6783b",
   "metadata": {},
   "outputs": [],
   "source": [
    "# Create the simulator from the tasks and tier.\n",
    "simulator = phyre.initialize_simulator(tasks, action_tier)"
   ]
  },
  {
   "cell_type": "code",
   "execution_count": null,
   "id": "9eb34b79",
   "metadata": {},
   "outputs": [],
   "source": [
    "# getting a 1000 actions from a simulator\n",
    "# it uniformly samples actions skipping invalid ones\n",
    "# Action dimensions: 3 (x, y, radius)\n",
    "\n",
    "actions = simulator.build_discrete_action_space(max_actions=1000)"
   ]
  },
  {
   "cell_type": "code",
   "execution_count": null,
   "id": "a5aa4944",
   "metadata": {},
   "outputs": [],
   "source": [
    "# Temp - TODO to be replaced with a loop\n",
    "task_index = 0\n",
    "action = actions[0]\n",
    "\n",
    "simulation = simulator.simulate_action(task_index, action, need_images=True, need_featurized_objects=True)"
   ]
  },
  {
   "cell_type": "code",
   "execution_count": null,
   "id": "c9141a7a",
   "metadata": {},
   "outputs": [],
   "source": [
    "# Displaying the simulation\n",
    "print('Number of observations returned by simulator:', len(simulation.images))\n",
    "\n",
    "num_across = 5\n",
    "height = int(math.ceil(len(simulation.images) / num_across))\n",
    "fig, axs = plt.subplots(height, num_across, figsize=(20, 15))\n",
    "fig.tight_layout()\n",
    "plt.subplots_adjust(hspace=0.2, wspace=0.2)\n",
    "\n",
    "# We can visualize the simulation at each timestep.\n",
    "for i, (ax, image) in enumerate(zip(axs.flatten(), simulation.images)):\n",
    "    # Convert the simulation observation to images.\n",
    "    img = phyre.observations_to_float_rgb(image)\n",
    "    ax.imshow(img)\n",
    "    ax.title.set_text(f'Timestep {i}')\n",
    "    ax.get_xaxis().set_ticks([])\n",
    "    ax.get_yaxis().set_ticks([])"
   ]
  },
  {
   "cell_type": "code",
   "execution_count": null,
   "id": "4380ca4c",
   "metadata": {},
   "outputs": [],
   "source": [
    "print\n",
    "print(simulation.featurized_objects.features)"
   ]
  },
  {
   "cell_type": "code",
   "execution_count": null,
   "id": "52fefa44",
   "metadata": {},
   "outputs": [],
   "source": [
    "def is_red_ball_in_free_fall(features):\n",
    "    return False not in [features[0][-1][0] == features[frame_id][-1][0] for frame_id in range(len(features))]"
   ]
  },
  {
   "cell_type": "code",
   "execution_count": null,
   "id": "6ea38a61",
   "metadata": {},
   "outputs": [],
   "source": [
    "is_red_ball_in_free_fall(simulation.featurized_objects.features)"
   ]
  },
  {
   "cell_type": "markdown",
   "id": "8cede44c",
   "metadata": {},
   "source": [
    "## Playground + Generation"
   ]
  },
  {
   "cell_type": "code",
   "execution_count": null,
   "id": "ffee432e",
   "metadata": {},
   "outputs": [],
   "source": [
    "import matplotlib.pyplot as plt\n",
    "import numpy as np\n",
    "import math\n",
    "import re\n",
    "import itertools\n",
    "\n",
    "import phyre"
   ]
  },
  {
   "cell_type": "code",
   "execution_count": null,
   "id": "405f6454",
   "metadata": {},
   "outputs": [],
   "source": [
    "# Choosing a setup where only one ball is needed\n",
    "eval_setup = 'ball_cross_template'\n",
    "\n",
    "\n",
    "# We only need one fold as we mix all the data together anyway\n",
    "fold_id = 0\n",
    "\n",
    "train_tasks, dev_tasks, test_tasks = phyre.get_fold(eval_setup, fold_id)\n",
    "tasks = list(train_tasks + dev_tasks + test_tasks)\n",
    "\n",
    "print('Total tasks: ', len(tasks))"
   ]
  },
  {
   "cell_type": "code",
   "execution_count": null,
   "id": "8c9a0877",
   "metadata": {},
   "outputs": [],
   "source": [
    "# Filtering tasks to only include a simple two-ball template. The template key: '00000:xxx'\n",
    "\n",
    "task_filter = re.compile(\"00000:*\")\n",
    "tasks = list(filter(task_filter.match, tasks))\n",
    "\n",
    "print('Tasks after filtering: ', len(tasks))"
   ]
  },
  {
   "cell_type": "code",
   "execution_count": null,
   "id": "1201a81d",
   "metadata": {},
   "outputs": [],
   "source": [
    "# Getting action tier for our tasks - a single ball\n",
    "action_tier = phyre.eval_setup_to_action_tier(eval_setup)\n",
    "print('Action tier for', eval_setup, 'is', action_tier)"
   ]
  },
  {
   "cell_type": "code",
   "execution_count": null,
   "id": "43e30c41",
   "metadata": {},
   "outputs": [],
   "source": [
    "# Create the simulator from the tasks and tier.\n",
    "simulator = phyre.initialize_simulator(tasks, action_tier)"
   ]
  },
  {
   "cell_type": "code",
   "execution_count": null,
   "id": "0b0e125a",
   "metadata": {},
   "outputs": [],
   "source": [
    "# getting a 1000 actions from a simulator\n",
    "# it uniformly samples actions skipping invalid ones\n",
    "# Action dimensions: 3 (x, y, radius) - represent coordinates and size of the red ball\n",
    "\n",
    "actions = simulator.build_discrete_action_space(max_actions=1000)"
   ]
  },
  {
   "cell_type": "code",
   "execution_count": null,
   "id": "04bb6aed",
   "metadata": {},
   "outputs": [],
   "source": [
    "# Defining a function to check if the red ball is in the free fall throughout the simulation\n",
    "def is_red_ball_in_free_fall(simulation):\n",
    "    features = simulation.featurized_objects.features\n",
    "    return False not in [features[0][-1][0] == features[frame_id][-1][0] for frame_id in range(len(features))]"
   ]
  },
  {
   "cell_type": "code",
   "execution_count": null,
   "id": "f6e3952d",
   "metadata": {},
   "outputs": [],
   "source": [
    "# Getting only the coordinates of the red ball\n",
    "def get_red_ball_data(simulation):\n",
    "    features = simulation.featurized_objects.features\n",
    "    data = []\n",
    "    for frame_id in range(len(features)):\n",
    "        data.append([features[frame_id][-1][0], features[frame_id][-1][1]])\n",
    "    return data"
   ]
  },
  {
   "cell_type": "code",
   "execution_count": null,
   "id": "298b073f",
   "metadata": {},
   "outputs": [],
   "source": [
    "# DO NOT INCLUDE IT IN THE SCRIPT\n",
    "# Checking what is in one of the files that I saved\n",
    "np.load('data-free-fall/task-0-action-0.npy')"
   ]
  }
 ],
 "metadata": {
  "kernelspec": {
   "display_name": "Python 3",
   "language": "python",
   "name": "python3"
  },
  "language_info": {
   "codemirror_mode": {
    "name": "ipython",
    "version": 3
   },
   "file_extension": ".py",
   "mimetype": "text/x-python",
   "name": "python",
   "nbconvert_exporter": "python",
   "pygments_lexer": "ipython3",
   "version": "3.6.13"
  }
 },
 "nbformat": 4,
 "nbformat_minor": 5
}
