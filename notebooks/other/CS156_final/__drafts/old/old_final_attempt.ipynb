{
 "cells": [
  {
   "cell_type": "code",
   "execution_count": 1,
   "id": "460263f8",
   "metadata": {},
   "outputs": [],
   "source": [
    "import torch\n",
    "import echotorch.nn.reservoir as etrs\n",
    "import echotorch.utils.matrix_generation as mg\n",
    "from torch.autograd import Variable\n",
    "from torch.utils.data.dataloader import DataLoader\n",
    "import numpy as np\n",
    "import matplotlib.pyplot as plt\n",
    "\n",
    "# My dataset\n",
    "from PhyreDataset import PhyreSequentialDataset"
   ]
  },
  {
   "cell_type": "code",
   "execution_count": 2,
   "id": "78b742d9",
   "metadata": {},
   "outputs": [
    {
     "name": "stdout",
     "output_type": "stream",
     "text": [
      "train_test_split response: test fraction rounded to 0.19985639061752034 (835 simulations)\n"
     ]
    }
   ],
   "source": [
    "# Loading data\n",
    "train_dataset, test_dataset = PhyreSequentialDataset.train_test_split('data', 0.2)"
   ]
  },
  {
   "cell_type": "code",
   "execution_count": 3,
   "id": "38a596e0",
   "metadata": {},
   "outputs": [
    {
     "name": "stdout",
     "output_type": "stream",
     "text": [
      "input:  tensor([[0.3500],\n",
      "        [0.2292],\n",
      "        [0.0586],\n",
      "        [0.7500],\n",
      "        [0.2605],\n",
      "        [0.1211],\n",
      "        [0.4141],\n",
      "        [0.7148],\n",
      "        [0.0156],\n",
      "        [0.3500],\n",
      "        [0.1086],\n",
      "        [0.0586],\n",
      "        [0.7500],\n",
      "        [0.1399],\n",
      "        [0.1211],\n",
      "        [0.4141],\n",
      "        [0.5942],\n",
      "        [0.0156],\n",
      "        [0.3500],\n",
      "        [0.0294],\n",
      "        [0.0586],\n",
      "        [0.7500],\n",
      "        [0.0607],\n",
      "        [0.1211],\n",
      "        [0.4141],\n",
      "        [0.2439],\n",
      "        [0.0156]])\n",
      "output:  tensor([[0.4141],\n",
      "        [0.0362]])\n"
     ]
    }
   ],
   "source": [
    "# Checking if what loaded is indeed what we need\n",
    "print('input: ', train_dataset.__getitem__(0)[0])\n",
    "print('output: ', train_dataset.__getitem__(0)[1])"
   ]
  },
  {
   "cell_type": "code",
   "execution_count": 4,
   "id": "80c3af12",
   "metadata": {},
   "outputs": [
    {
     "name": "stdout",
     "output_type": "stream",
     "text": [
      "27 2\n"
     ]
    }
   ],
   "source": [
    "# Setting up input and output dimensions for the network\n",
    "input_dim = len(train_dataset.__getitem__(0)[0])\n",
    "output_dim = len(train_dataset.__getitem__(0)[1])\n",
    "\n",
    "print(input_dim, output_dim)"
   ]
  },
  {
   "cell_type": "code",
   "execution_count": 5,
   "id": "d92555c5",
   "metadata": {},
   "outputs": [
    {
     "data": {
      "text/plain": [
       "<torch.utils.data.dataloader.DataLoader at 0x1a317be080>"
      ]
     },
     "execution_count": 5,
     "metadata": {},
     "output_type": "execute_result"
    }
   ],
   "source": [
    "# Data loader\n",
    "trainloader = DataLoader(train_dataset, batch_size=1, shuffle=False, num_workers=2)\n",
    "testloader = DataLoader(test_dataset, batch_size=1, shuffle=False, num_workers=2)\n",
    "\n",
    "trainloader"
   ]
  },
  {
   "cell_type": "code",
   "execution_count": 6,
   "id": "12d1b04a",
   "metadata": {},
   "outputs": [],
   "source": [
    "# Reservoir hyper-parameters <<<<<------ ASK HOW TO DEFINE THOSE AND WHAT THOSE MEAN\n",
    "spectral_radius = 1.07\n",
    "leaky_rate = 0.9261\n",
    "reservoir_size = 1000\n",
    "connectivity = 0.1954"
   ]
  },
  {
   "cell_type": "code",
   "execution_count": 7,
   "id": "de127971",
   "metadata": {},
   "outputs": [],
   "source": [
    "# Internal matrix\n",
    "w_generator = mg.NormalMatrixGenerator(\n",
    "    connectivity=connectivity,\n",
    "    spetral_radius=spectral_radius\n",
    ")\n",
    "\n",
    "# Input weights\n",
    "win_generator = mg.NormalMatrixGenerator(\n",
    "    connectivity=connectivity,\n",
    "    apply_spectral_radius=False\n",
    ")\n",
    "\n",
    "# Bias vector\n",
    "wbias_generator = mg.NormalMatrixGenerator(\n",
    "    connectivity=connectivity,\n",
    "    apply_spectral_radius=False\n",
    ")"
   ]
  },
  {
   "cell_type": "code",
   "execution_count": 8,
   "id": "28065807",
   "metadata": {},
   "outputs": [
    {
     "name": "stderr",
     "output_type": "stream",
     "text": [
      "/usr/local/anaconda3/envs/phyre/lib/python3.6/site-packages/echotorch/utils/utility_functions.py:410: UserWarning: torch.eig is deprecated in favor of torch.linalg.eig and will be removed in a future PyTorch release.\n",
      "torch.linalg.eig returns complex tensors of dtype cfloat or cdouble rather than real tensors mimicking complex tensors.\n",
      "L, _ = torch.eig(A)\n",
      "should be replaced with\n",
      "L_complex = torch.linalg.eigvals(A)\n",
      "and\n",
      "L, V = torch.eig(A, eigenvectors=True)\n",
      "should be replaced with\n",
      "L_complex, V_complex = torch.linalg.eig(A) (Triggered internally at  ../aten/src/ATen/native/BatchLinearAlgebra.cpp:2894.)\n",
      "  return torch.max(torch.abs(torch.eig(m)[0])).item()\n"
     ]
    }
   ],
   "source": [
    "# Create a Leaky-integrated ESN,\n",
    "# with least-square training algo.\n",
    "# esn = etrs.ESN(\n",
    "esn = etrs.LiESN(\n",
    "    input_dim=input_dim,\n",
    "    hidden_dim=reservoir_size,\n",
    "    output_dim=output_dim,\n",
    "    leaky_rate=leaky_rate,\n",
    "    learning_algo='inv',\n",
    "    w_generator=w_generator,\n",
    "    win_generator=win_generator,\n",
    "    wbias_generator=wbias_generator,\n",
    ")"
   ]
  },
  {
   "cell_type": "code",
   "execution_count": 9,
   "id": "ef510ba7",
   "metadata": {},
   "outputs": [
    {
     "name": "stdout",
     "output_type": "stream",
     "text": [
      "Counter:  0\n"
     ]
    },
    {
     "ename": "RuntimeError",
     "evalue": "size mismatch, got 1000, 1000x27,1",
     "output_type": "error",
     "traceback": [
      "\u001b[0;31m---------------------------------------------------------------------------\u001b[0m",
      "\u001b[0;31mRuntimeError\u001b[0m                              Traceback (most recent call last)",
      "\u001b[0;32m<ipython-input-9-805a12cc74dc>\u001b[0m in \u001b[0;36m<module>\u001b[0;34m\u001b[0m\n\u001b[1;32m     11\u001b[0m \u001b[0;34m\u001b[0m\u001b[0m\n\u001b[1;32m     12\u001b[0m     \u001b[0;31m# ESN need inputs and targets\u001b[0m\u001b[0;34m\u001b[0m\u001b[0;34m\u001b[0m\u001b[0;34m\u001b[0m\u001b[0m\n\u001b[0;32m---> 13\u001b[0;31m     \u001b[0mesn\u001b[0m\u001b[0;34m(\u001b[0m\u001b[0minputs\u001b[0m\u001b[0;34m,\u001b[0m \u001b[0mtargets\u001b[0m\u001b[0;34m)\u001b[0m\u001b[0;34m\u001b[0m\u001b[0;34m\u001b[0m\u001b[0m\n\u001b[0m",
      "\u001b[0;32m/usr/local/anaconda3/envs/phyre/lib/python3.6/site-packages/torch/nn/modules/module.py\u001b[0m in \u001b[0;36m_call_impl\u001b[0;34m(self, *input, **kwargs)\u001b[0m\n\u001b[1;32m   1100\u001b[0m         if not (self._backward_hooks or self._forward_hooks or self._forward_pre_hooks or _global_backward_hooks\n\u001b[1;32m   1101\u001b[0m                 or _global_forward_hooks or _global_forward_pre_hooks):\n\u001b[0;32m-> 1102\u001b[0;31m             \u001b[0;32mreturn\u001b[0m \u001b[0mforward_call\u001b[0m\u001b[0;34m(\u001b[0m\u001b[0;34m*\u001b[0m\u001b[0minput\u001b[0m\u001b[0;34m,\u001b[0m \u001b[0;34m**\u001b[0m\u001b[0mkwargs\u001b[0m\u001b[0;34m)\u001b[0m\u001b[0;34m\u001b[0m\u001b[0;34m\u001b[0m\u001b[0m\n\u001b[0m\u001b[1;32m   1103\u001b[0m         \u001b[0;31m# Do not call functions when jit is used\u001b[0m\u001b[0;34m\u001b[0m\u001b[0;34m\u001b[0m\u001b[0;34m\u001b[0m\u001b[0m\n\u001b[1;32m   1104\u001b[0m         \u001b[0mfull_backward_hooks\u001b[0m\u001b[0;34m,\u001b[0m \u001b[0mnon_full_backward_hooks\u001b[0m \u001b[0;34m=\u001b[0m \u001b[0;34m[\u001b[0m\u001b[0;34m]\u001b[0m\u001b[0;34m,\u001b[0m \u001b[0;34m[\u001b[0m\u001b[0;34m]\u001b[0m\u001b[0;34m\u001b[0m\u001b[0;34m\u001b[0m\u001b[0m\n",
      "\u001b[0;32m/usr/local/anaconda3/envs/phyre/lib/python3.6/site-packages/echotorch/nn/reservoir/ESN.py\u001b[0m in \u001b[0;36mforward\u001b[0;34m(self, u, y, reset_state)\u001b[0m\n\u001b[1;32m    257\u001b[0m         \"\"\"\n\u001b[1;32m    258\u001b[0m         \u001b[0;31m# Compute hidden states\u001b[0m\u001b[0;34m\u001b[0m\u001b[0;34m\u001b[0m\u001b[0;34m\u001b[0m\u001b[0m\n\u001b[0;32m--> 259\u001b[0;31m         \u001b[0mhidden_states\u001b[0m \u001b[0;34m=\u001b[0m \u001b[0mself\u001b[0m\u001b[0;34m.\u001b[0m\u001b[0m_esn_cell\u001b[0m\u001b[0;34m(\u001b[0m\u001b[0mu\u001b[0m\u001b[0;34m,\u001b[0m \u001b[0mreset_state\u001b[0m\u001b[0;34m=\u001b[0m\u001b[0mreset_state\u001b[0m\u001b[0;34m)\u001b[0m\u001b[0;34m\u001b[0m\u001b[0;34m\u001b[0m\u001b[0m\n\u001b[0m\u001b[1;32m    260\u001b[0m \u001b[0;34m\u001b[0m\u001b[0m\n\u001b[1;32m    261\u001b[0m         \u001b[0;31m# Learning algo\u001b[0m\u001b[0;34m\u001b[0m\u001b[0;34m\u001b[0m\u001b[0;34m\u001b[0m\u001b[0m\n",
      "\u001b[0;32m/usr/local/anaconda3/envs/phyre/lib/python3.6/site-packages/torch/nn/modules/module.py\u001b[0m in \u001b[0;36m_call_impl\u001b[0;34m(self, *input, **kwargs)\u001b[0m\n\u001b[1;32m   1100\u001b[0m         if not (self._backward_hooks or self._forward_hooks or self._forward_pre_hooks or _global_backward_hooks\n\u001b[1;32m   1101\u001b[0m                 or _global_forward_hooks or _global_forward_pre_hooks):\n\u001b[0;32m-> 1102\u001b[0;31m             \u001b[0;32mreturn\u001b[0m \u001b[0mforward_call\u001b[0m\u001b[0;34m(\u001b[0m\u001b[0;34m*\u001b[0m\u001b[0minput\u001b[0m\u001b[0;34m,\u001b[0m \u001b[0;34m**\u001b[0m\u001b[0mkwargs\u001b[0m\u001b[0;34m)\u001b[0m\u001b[0;34m\u001b[0m\u001b[0;34m\u001b[0m\u001b[0m\n\u001b[0m\u001b[1;32m   1103\u001b[0m         \u001b[0;31m# Do not call functions when jit is used\u001b[0m\u001b[0;34m\u001b[0m\u001b[0;34m\u001b[0m\u001b[0;34m\u001b[0m\u001b[0m\n\u001b[1;32m   1104\u001b[0m         \u001b[0mfull_backward_hooks\u001b[0m\u001b[0;34m,\u001b[0m \u001b[0mnon_full_backward_hooks\u001b[0m \u001b[0;34m=\u001b[0m \u001b[0;34m[\u001b[0m\u001b[0;34m]\u001b[0m\u001b[0;34m,\u001b[0m \u001b[0;34m[\u001b[0m\u001b[0;34m]\u001b[0m\u001b[0;34m\u001b[0m\u001b[0;34m\u001b[0m\u001b[0m\n",
      "\u001b[0;32m/usr/local/anaconda3/envs/phyre/lib/python3.6/site-packages/echotorch/nn/reservoir/ESNCell.py\u001b[0m in \u001b[0;36mforward\u001b[0;34m(self, u, reset_state)\u001b[0m\n\u001b[1;32m    224\u001b[0m \u001b[0;34m\u001b[0m\u001b[0m\n\u001b[1;32m    225\u001b[0m                 \u001b[0;31m# Compute input layer\u001b[0m\u001b[0;34m\u001b[0m\u001b[0;34m\u001b[0m\u001b[0;34m\u001b[0m\u001b[0m\n\u001b[0;32m--> 226\u001b[0;31m                 \u001b[0mu_win\u001b[0m \u001b[0;34m=\u001b[0m \u001b[0mself\u001b[0m\u001b[0;34m.\u001b[0m\u001b[0m_input_layer\u001b[0m\u001b[0;34m(\u001b[0m\u001b[0mut\u001b[0m\u001b[0;34m)\u001b[0m\u001b[0;34m\u001b[0m\u001b[0;34m\u001b[0m\u001b[0m\n\u001b[0m\u001b[1;32m    227\u001b[0m \u001b[0;34m\u001b[0m\u001b[0m\n\u001b[1;32m    228\u001b[0m                 \u001b[0;31m# Apply W to x\u001b[0m\u001b[0;34m\u001b[0m\u001b[0;34m\u001b[0m\u001b[0;34m\u001b[0m\u001b[0m\n",
      "\u001b[0;32m/usr/local/anaconda3/envs/phyre/lib/python3.6/site-packages/echotorch/nn/reservoir/ESNCell.py\u001b[0m in \u001b[0;36m_input_layer\u001b[0;34m(self, ut)\u001b[0m\n\u001b[1;32m    317\u001b[0m         \u001b[0;34m:\u001b[0m\u001b[0;32mreturn\u001b[0m\u001b[0;34m:\u001b[0m \u001b[0mProcessed\u001b[0m \u001b[0minputs\u001b[0m\u001b[0;34m\u001b[0m\u001b[0;34m\u001b[0m\u001b[0m\n\u001b[1;32m    318\u001b[0m         \"\"\"\n\u001b[0;32m--> 319\u001b[0;31m         \u001b[0;32mreturn\u001b[0m \u001b[0mself\u001b[0m\u001b[0;34m.\u001b[0m\u001b[0mw_in\u001b[0m\u001b[0;34m.\u001b[0m\u001b[0mmv\u001b[0m\u001b[0;34m(\u001b[0m\u001b[0mut\u001b[0m\u001b[0;34m)\u001b[0m\u001b[0;34m\u001b[0m\u001b[0;34m\u001b[0m\u001b[0m\n\u001b[0m\u001b[1;32m    320\u001b[0m     \u001b[0;31m# end _input_layer\u001b[0m\u001b[0;34m\u001b[0m\u001b[0;34m\u001b[0m\u001b[0;34m\u001b[0m\u001b[0m\n\u001b[1;32m    321\u001b[0m \u001b[0;34m\u001b[0m\u001b[0m\n",
      "\u001b[0;31mRuntimeError\u001b[0m: size mismatch, got 1000, 1000x27,1"
     ]
    }
   ],
   "source": [
    "# For each batch\n",
    "i = 0\n",
    "for data in trainloader:\n",
    "    print('Counter: ', i)\n",
    "    i+=1\n",
    "    # Inputs and outputs\n",
    "    inputs, targets = data\n",
    "\n",
    "    # Transform data to Variables\n",
    "    inputs, targets = Variable(inputs), Variable(targets)\n",
    "\n",
    "    # ESN need inputs and targets\n",
    "    esn(inputs, targets)"
   ]
  },
  {
   "cell_type": "code",
   "execution_count": null,
   "id": "e168b141",
   "metadata": {},
   "outputs": [],
   "source": []
  }
 ],
 "metadata": {
  "kernelspec": {
   "display_name": "Python 3",
   "language": "python",
   "name": "python3"
  },
  "language_info": {
   "codemirror_mode": {
    "name": "ipython",
    "version": 3
   },
   "file_extension": ".py",
   "mimetype": "text/x-python",
   "name": "python",
   "nbconvert_exporter": "python",
   "pygments_lexer": "ipython3",
   "version": "3.6.13"
  }
 },
 "nbformat": 4,
 "nbformat_minor": 5
}
