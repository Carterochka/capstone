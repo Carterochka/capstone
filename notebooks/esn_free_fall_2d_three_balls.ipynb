{
 "cells": [
  {
   "cell_type": "code",
   "execution_count": 1,
   "metadata": {},
   "outputs": [],
   "source": [
    "import numpy as np\n",
    "import matplotlib.pyplot as plt\n",
    "\n",
    "import sys\n",
    "\n",
    "if '..' not in sys.path:\n",
    "    sys.path.append('..')\n",
    "\n",
    "from data import ThreeBalls2DFreeFallDataset\n",
    "\n",
    "import torch\n",
    "from torch.utils.data import DataLoader\n",
    "\n",
    "import reservoirpy as rpy\n",
    "from reservoirpy.nodes import Input, Reservoir, Ridge, ReLU, ESN\n",
    "from reservoirpy.observables import mse\n",
    "\n",
    "from itertools import product\n",
    "\n",
    "rpy.verbosity(0)\n",
    "rpy.set_seed(42)"
   ]
  },
  {
   "cell_type": "code",
   "execution_count": 2,
   "metadata": {},
   "outputs": [],
   "source": [
    "def calculate_test_loss(model, dataloader, dataset, visualize_first_10_trajectories=True):\n",
    "    test_loss = (np.sum([mse(model.run(X.squeeze().numpy()), y.squeeze().numpy())*len(y) for X, y in dataloader]) / len(dataset)) ** 0.5\n",
    "    print('Test loss: ', test_loss)\n",
    "\n",
    "    if visualize_first_10_trajectories:\n",
    "        _, axs1 = plt.subplots(2, 5, figsize=(20,10))\n",
    "        _, axs2 = plt.subplots(2, 5, figsize=(20,10))\n",
    "\n",
    "        plt.title('Y-coordinates over time')\n",
    "        for X, y in dataloader:\n",
    "            pred = model.run(X.squeeze().numpy())\n",
    "\n",
    "            for count in range(10):\n",
    "                gr = np.insert(y.squeeze().numpy()[count].reshape(1,-1)[0], 0, X.squeeze().numpy()[count][-3:-1])\n",
    "                pr = np.insert(pred.squeeze()[count].reshape(1,-1)[0], 0, X.squeeze().numpy()[count][-3:-1])\n",
    "\n",
    "                axs1[int(count >= 5)][count % 5].plot(gr[1::2], label=f'Ground truth')\n",
    "                axs1[int(count >= 5)][count % 5].plot(pr[1::2], label='Predicted')\n",
    "                axs1[int(count >= 5)][count % 5].legend()\n",
    "\n",
    "                axs2[int(count >= 5)][count % 5].plot(gr[0::2], gr[1::2], label=f'Ground truth')\n",
    "                axs2[int(count >= 5)][count % 5].plot(pr[0::2], pr[1::2], label='Predicted')\n",
    "                axs2[int(count >= 5)][count % 5].legend()\n",
    "\n",
    "            break\n",
    "\n",
    "        plt.show()\n",
    "    return test_loss"
   ]
  },
  {
   "cell_type": "code",
   "execution_count": null,
   "metadata": {},
   "outputs": [],
   "source": [
    "batch_size = 32\n",
    "\n",
    "train_data, test_data = ThreeBalls2DFreeFallDataset.train_test_split('../data/raw/three-balls-2d-free-fall', test_frac=0.2)\n",
    "\n",
    "train_dataloader = DataLoader(dataset=train_data, batch_size=batch_size)\n",
    "test_dataloader = DataLoader(dataset=test_data, batch_size=batch_size)"
   ]
  }
 ],
 "metadata": {
  "kernelspec": {
   "display_name": "Python 3.6.13 ('capstone')",
   "language": "python",
   "name": "python3"
  },
  "language_info": {
   "codemirror_mode": {
    "name": "ipython",
    "version": 3
   },
   "file_extension": ".py",
   "mimetype": "text/x-python",
   "name": "python",
   "nbconvert_exporter": "python",
   "pygments_lexer": "ipython3",
   "version": "3.6.13"
  },
  "orig_nbformat": 4,
  "vscode": {
   "interpreter": {
    "hash": "a0b3f3fb89475a9f3ee16a6ee85f2212c2ffe9e22ccfc60339082bf269fc25a6"
   }
  }
 },
 "nbformat": 4,
 "nbformat_minor": 2
}
